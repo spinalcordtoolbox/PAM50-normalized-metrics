{
 "cells": [
  {
   "cell_type": "markdown",
   "id": "2a17f6c5-b40b-43ec-843e-a2232459bc56",
   "metadata": {},
   "source": [
    "## PAM50-normalized-metrics - tables\n",
    "\n",
    "To start this Jupyter notebook, run the following commands in your terminal\n",
    "\n",
    "```\n",
    "conda create --name jupyter\n",
    "conda activate jupyter\n",
    "conda install jupyterlab matplotlib seaborn pandas plotly\n",
    "pip install ipynb\n",
    "# to save images, install also kaleido\n",
    "pip install -U kaleido\n",
    "jupyter lab\n",
    "```"
   ]
  },
  {
   "cell_type": "code",
   "execution_count": null,
   "id": "fd88a2d2-a1ef-48e3-9b83-509cd9476236",
   "metadata": {},
   "outputs": [],
   "source": [
    "from utils import fetch_data\n",
    "from tables import table_demographic_characteristics, table_normative_values"
   ]
  },
  {
   "cell_type": "code",
   "execution_count": null,
   "id": "279120fa-c5de-4c8e-b6f3-2ae29246671c",
   "metadata": {},
   "outputs": [],
   "source": [
    "# Fetch data using repo2data\n",
    "fetch_data()"
   ]
  },
  {
   "cell_type": "code",
   "execution_count": null,
   "id": "156f32c0-8c6e-4893-8639-b8468820c32b",
   "metadata": {},
   "outputs": [],
   "source": [
    "# Demographic characteristics\n",
    "path_csv = 'data/PAM50-normalized-metrics-neurolibre/PAM50-normalized-metrics-neurolibre/table_1-demographic_characteristics.csv'\n",
    "table_demographic_characteristics(path_csv)"
   ]
  },
  {
   "cell_type": "code",
   "execution_count": null,
   "id": "ccbb217a-aef5-460e-a7c7-c737a94b1e98",
   "metadata": {},
   "outputs": [],
   "source": [
    "# Whole cohort\n",
    "path_csv = 'data/PAM50-normalized-metrics-neurolibre/PAM50-normalized-metrics-neurolibre/table_2-normative_values_whole_cohort_203_subjects.csv'\n",
    "table_normative_values(path_csv)"
   ]
  },
  {
   "cell_type": "code",
   "execution_count": null,
   "id": "8b944334-5e12-4dfd-8d95-f1a7f3381c29",
   "metadata": {},
   "outputs": [],
   "source": [
    "# Males\n",
    "path_csv = 'data/PAM50-normalized-metrics-neurolibre/PAM50-normalized-metrics-neurolibre/table_3-normative_values_105_males.csv'\n",
    "table_normative_values(path_csv)"
   ]
  },
  {
   "cell_type": "code",
   "execution_count": null,
   "id": "ea588580-f2a5-49b6-9e09-081a37a2cdeb",
   "metadata": {},
   "outputs": [],
   "source": [
    "# Females\n",
    "path_csv = 'data/PAM50-normalized-metrics-neurolibre/PAM50-normalized-metrics-neurolibre/table_4-normative_values_98_females.csv'\n",
    "table_normative_values(path_csv)"
   ]
  }
 ],
 "metadata": {
  "kernelspec": {
   "display_name": "Python 3 (ipykernel)",
   "language": "python",
   "name": "python3"
  },
  "language_info": {
   "codemirror_mode": {
    "name": "ipython",
    "version": 3
   },
   "file_extension": ".py",
   "mimetype": "text/x-python",
   "name": "python",
   "nbconvert_exporter": "python",
   "pygments_lexer": "ipython3",
   "version": "3.11.3"
  }
 },
 "nbformat": 4,
 "nbformat_minor": 5
}
