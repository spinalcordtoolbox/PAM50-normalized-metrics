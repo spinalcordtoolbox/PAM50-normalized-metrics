{
 "cells": [
  {
   "cell_type": "markdown",
   "id": "b8d76de4-3ecb-4590-879a-9a4992a9fa88",
   "metadata": {},
   "source": [
    "## Plot PAM50 spine-generic normative data \n",
    "\n",
    "To start this Jupyter notebook, run the following commands in your terminal\n",
    "\n",
    "```\n",
    "conda create --name jupyter\n",
    "conda activate jupyter\n",
    "conda install jupyterlab matplotlib seaborn pandas plotly\n",
    "pip install ipynb\n",
    "jupyter lab\n",
    "```"
   ]
  },
  {
   "cell_type": "code",
   "execution_count": null,
   "id": "14d892b4-5dac-4785-940a-76a9abf8d381",
   "metadata": {},
   "outputs": [],
   "source": [
    "# Import libraries\n",
    "import numpy as np\n",
    "import pandas as pd\n",
    "import seaborn as sns\n",
    "import matplotlib.pyplot as plt\n",
    "\n",
    "from ipynb.fs.full.utils_plotly import create_subplot, create_subplot_hue\n",
    "from ipynb.fs.full.read_sourcedata import read_csv_files\n",
    "\n",
    "%matplotlib inline"
   ]
  },
  {
   "cell_type": "code",
   "execution_count": null,
   "id": "e592fe55-9824-41e1-aba1-c202be8596ed",
   "metadata": {},
   "outputs": [],
   "source": [
    "df = read_csv_files()\n",
    "len(df)"
   ]
  },
  {
   "cell_type": "code",
   "execution_count": null,
   "id": "a89bed49-645a-4ad2-bbf7-3ee14d370bc8",
   "metadata": {},
   "outputs": [],
   "source": [
    "create_subplot(df)"
   ]
  },
  {
   "cell_type": "code",
   "execution_count": null,
   "id": "4ee274c2-24a3-48bb-82e6-4eb159d33f47",
   "metadata": {},
   "outputs": [],
   "source": [
    "create_subplot_hue(df, hue='sex')"
   ]
  },
  {
   "cell_type": "code",
   "execution_count": null,
   "id": "22308f89-62a1-4019-b32c-aa2f1c199725",
   "metadata": {},
   "outputs": [],
   "source": [
    "create_subplot_hue(df, hue='manufacturer')"
   ]
  }
 ],
 "metadata": {
  "kernelspec": {
   "display_name": "Python 3 (ipykernel)",
   "language": "python",
   "name": "python3"
  },
  "language_info": {
   "codemirror_mode": {
    "name": "ipython",
    "version": 3
   },
   "file_extension": ".py",
   "mimetype": "text/x-python",
   "name": "python",
   "nbconvert_exporter": "python",
   "pygments_lexer": "ipython3",
   "version": "3.11.3"
  }
 },
 "nbformat": 4,
 "nbformat_minor": 5
}
